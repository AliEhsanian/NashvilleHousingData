{
 "cells": [
  {
   "cell_type": "markdown",
   "metadata": {},
   "source": [
    "# Cleaning Data using SQL"
   ]
  },
  {
   "cell_type": "markdown",
   "metadata": {},
   "source": [
    "### Some Notes:"
   ]
  },
  {
   "cell_type": "markdown",
   "metadata": {},
   "source": [
    "1. Download the data from Kaggle or GitHub. A *.csv file is universally accepted by all DBMSs. If we have an *.xlsx file, we can convert it to a *.csv file with this Python code:"
   ]
  },
  {
   "cell_type": "code",
   "execution_count": null,
   "metadata": {},
   "outputs": [],
   "source": [
    "import pandas as pd\n",
    "# Read the Excel file\n",
    "df = pd.read_excel('NashvilleHousingData.xlsx', sheet_name='Sheet1')\n",
    "# Write to CSV\n",
    "df.to_csv('NashvilleHousingData.csv', index=False)"
   ]
  },
  {
   "cell_type": "markdown",
   "metadata": {},
   "source": [
    "2. If we import the file to the DBMS and let it create the schema, it is possible that the DBMS sets some column types incorrectly, for example, STRING instead of INTEGER or NUMERIC. We can change the column type with this query:"
   ]
  },
  {
   "cell_type": "code",
   "execution_count": null,
   "metadata": {
    "vscode": {
     "languageId": "sql"
    }
   },
   "outputs": [],
   "source": [
    "ALTER TABLE NashvilleHousingData\n",
    "ALTER COLUMN UniqueID TYPE INTEGER USING employee_id::INTEGER;"
   ]
  },
  {
   "cell_type": "markdown",
   "metadata": {},
   "source": [
    "<p style=\"margin-left: 3em;\">\n",
    "However, in some DBMS (especially cloud-based services like BigQuery), we can't directly alter the column type, and we may need to create a new table and drop the old table.\n",
    "</p>\n",
    "<p style=\"margin-left: 3em;\">\n",
    "Alternatively, we can use CAST() or CONVERT() whenever necessary and avoid changing the original table.\n",
    "</p>\n",
    "<p style=\"margin-left: 3em;\">\n",
    "Another option is to define the column names and types explicitly before importing the data from a file.\n",
    "</p>"
   ]
  },
  {
   "cell_type": "markdown",
   "metadata": {},
   "source": [
    "3. Additionally, if we import the file to the DBMS and let it create the schema, it may set some weird names. For example, instead of \"UniqueID\" it may recognize it as \"UniqueID \" (with a trailing space). We can change the column name with this query:"
   ]
  },
  {
   "cell_type": "code",
   "execution_count": null,
   "metadata": {
    "vscode": {
     "languageId": "sql"
    }
   },
   "outputs": [],
   "source": [
    "ALTER TABLE NashvilleHousingData\n",
    "RENAME COLUMN \"UniqueID \" TO \"UniqueID\";"
   ]
  },
  {
   "cell_type": "markdown",
   "metadata": {},
   "source": [
    "<p style=\"margin-left: 3em;\">\n",
    "Again, in some DBMS (especially cloud-based services like BigQuery), we can't directly alter the column name, and we may need to create a new table and drop the old table.\n",
    "</p>"
   ]
  },
  {
   "cell_type": "code",
   "execution_count": null,
   "metadata": {
    "vscode": {
     "languageId": "sql"
    }
   },
   "outputs": [],
   "source": [
    "SELECT *\n",
    "FROM NashvilleHousing\n",
    "LIMIT 50;"
   ]
  },
  {
   "cell_type": "markdown",
   "metadata": {},
   "source": [
    "### Duplicate UniqueIDs"
   ]
  },
  {
   "cell_type": "markdown",
   "metadata": {},
   "source": [
    "- There are some duplicates in the UniqueID column, which shound not be as it is supposed to be unique!"
   ]
  },
  {
   "cell_type": "code",
   "execution_count": null,
   "metadata": {
    "vscode": {
     "languageId": "sql"
    }
   },
   "outputs": [],
   "source": [
    "SELECT COUNT(*)\n",
    "FROM NashvilleHousing;"
   ]
  },
  {
   "cell_type": "code",
   "execution_count": null,
   "metadata": {
    "vscode": {
     "languageId": "sql"
    }
   },
   "outputs": [],
   "source": [
    "SELECT COUNT(DISTINCT UniqueID)\n",
    "FROM NashvilleHousing;"
   ]
  },
  {
   "cell_type": "markdown",
   "metadata": {},
   "source": [
    "- With below query, we can see the rows with duplicate UniqueIDs"
   ]
  },
  {
   "cell_type": "code",
   "execution_count": null,
   "metadata": {
    "vscode": {
     "languageId": "sql"
    }
   },
   "outputs": [],
   "source": [
    "WITH DuplicateUniqueIDs AS (\n",
    "  SELECT UniqueID\n",
    "  FROM NashvilleHousing\n",
    "  GROUP BY UniqueID\n",
    "  HAVING COUNT(*) > 1\n",
    ")\n",
    "SELECT *\n",
    "FROM NashvilleHousing\n",
    "WHERE UniqueID IN (SELECT UniqueID FROM DuplicateUniqueIDs);"
   ]
  },
  {
   "cell_type": "markdown",
   "metadata": {},
   "source": [
    "- As the duplicate rows seem to be wrong entries, we can delete them with this query"
   ]
  },
  {
   "cell_type": "code",
   "execution_count": null,
   "metadata": {
    "vscode": {
     "languageId": "sql"
    }
   },
   "outputs": [],
   "source": [
    "DELETE FROM NashvilleHousing\n",
    "  WHERE UniqueID IN \n",
    "    (SELECT UniqueID FROM NashvilleHousing GROUP BY UniqueID HAVING COUNT(*) > 1);"
   ]
  },
  {
   "cell_type": "markdown",
   "metadata": {},
   "source": [
    "### Standardize SaleDate Format"
   ]
  },
  {
   "cell_type": "code",
   "execution_count": null,
   "metadata": {
    "vscode": {
     "languageId": "sql"
    }
   },
   "outputs": [],
   "source": [
    "SELECT SaleDate, DATE(SaleDate)\n",
    "FROM NashvilleHousing\n",
    "LIMIT 50;"
   ]
  },
  {
   "cell_type": "code",
   "execution_count": null,
   "metadata": {
    "vscode": {
     "languageId": "sql"
    }
   },
   "outputs": [],
   "source": [
    "UPDATE NashvilleHousing\n",
    "SET SaleDate = DATE(SaleDate);"
   ]
  },
  {
   "cell_type": "markdown",
   "metadata": {},
   "source": [
    "- The above query may not work, either fails or doesn't change the table (depends on the DBMS). The reason is that some rows contain data that cannot be converted to the DATE type! We might wonder why the SELECT command worked without raising an error. The reason is that SQL systems are generally soft in the SELECT command. The SELECT command attempts to convert the SaleDate values into the DATE type, and if the conversion fails for a particular row, typically won't raise an error. Instead, it returns NULL or some other default value for that row in the result set."
   ]
  },
  {
   "cell_type": "markdown",
   "metadata": {},
   "source": [
    "- With the query below, we can check if all rows in the SaleDate column are convertible to the DATE type. If the result is empty, the UPDATE command should have worked. If the query returns some rows, it indicates that those rows are not easily convertible!"
   ]
  },
  {
   "cell_type": "code",
   "execution_count": null,
   "metadata": {
    "vscode": {
     "languageId": "sql"
    }
   },
   "outputs": [],
   "source": [
    "SELECT SaleDate \n",
    "FROM NashvilleHousing \n",
    "WHERE \n",
    "  SaleDate IS NOT NULL \n",
    "  AND TRY_CAST(SaleDate AS DATE) IS NULL; -- or SAFE_CASR() is some SQL systems"
   ]
  },
  {
   "cell_type": "markdown",
   "metadata": {},
   "source": [
    "- We can delete those rows or convert the rows with another query, or set them to NULL."
   ]
  },
  {
   "cell_type": "code",
   "execution_count": null,
   "metadata": {
    "vscode": {
     "languageId": "sql"
    }
   },
   "outputs": [],
   "source": [
    "UPDATE NashvilleHousing\n",
    "SET SaleDate = \n",
    "  CASE \n",
    "    WHEN TRY_CAST(SaleDate AS DATE) IS NOT NULL THEN DATE(SaleDate)\n",
    "    ELSE NULL\n",
    "  END;"
   ]
  },
  {
   "cell_type": "markdown",
   "metadata": {},
   "source": [
    "### Populate Property Address"
   ]
  },
  {
   "cell_type": "markdown",
   "metadata": {},
   "source": [
    "- There are some Properties that don't have an address!!!"
   ]
  },
  {
   "cell_type": "code",
   "execution_count": null,
   "metadata": {
    "vscode": {
     "languageId": "sql"
    }
   },
   "outputs": [],
   "source": [
    "SELECT *\n",
    "FROM NashvilleHousing \n",
    "WHERE PropertyAddress IS NULL;"
   ]
  },
  {
   "cell_type": "markdown",
   "metadata": {},
   "source": [
    "- After exploring the data, we see there are houses that have the same ParcelID and Addresss. We can use this insight to populate the null addresses. This query, returns the houses without address and the houses with address which have the same ParcelID."
   ]
  },
  {
   "cell_type": "code",
   "execution_count": null,
   "metadata": {
    "vscode": {
     "languageId": "sql"
    }
   },
   "outputs": [],
   "source": [
    "SELECT \n",
    "  t1.ParcelID, t1.PropertyAddress,\n",
    "  t2.ParcelID, t2.PropertyAddress\n",
    "FROM NashvilleHousing t1\n",
    "JOIN NashvilleHousing t2\n",
    "  ON t1.ParcelID = t2.ParcelID \n",
    "     AND t1.UniqueID != t2.UniqueID\n",
    "WHERE t1.PropertyAddress IS NULL;"
   ]
  },
  {
   "cell_type": "markdown",
   "metadata": {},
   "source": [
    "- If the number of rows in the above two queris is not equal, It's becuase of repeated ParcelIDs. If the output of this query is empty, it shows that the Distinct ParcelIDs are the same."
   ]
  },
  {
   "cell_type": "code",
   "execution_count": null,
   "metadata": {
    "vscode": {
     "languageId": "sql"
    }
   },
   "outputs": [],
   "source": [
    "SELECT DISTINCT ParcelID\n",
    "FROM NashvilleHousing \n",
    "WHERE PropertyAddress IS NULL\n",
    "\n",
    "EXCEPT DISTINCT\n",
    "\n",
    "SELECT DISTINCT ParcelID\n",
    "FROM (\n",
    "  SELECT t1.ParcelID As ParcelID\n",
    "  FROM NashvilleHousing t1\n",
    "  JOIN NashvilleHousing t2\n",
    "  ON t1.ParcelID = t2.ParcelID \n",
    "     AND t1.UniqueID != t2.UniqueID\n",
    "  WHERE t1.PropertyAddress IS NULL\n",
    ") AS subquery;"
   ]
  },
  {
   "cell_type": "markdown",
   "metadata": {},
   "source": [
    "- We can populte the null addresses with this quey"
   ]
  },
  {
   "cell_type": "code",
   "execution_count": null,
   "metadata": {
    "vscode": {
     "languageId": "sql"
    }
   },
   "outputs": [],
   "source": [
    "UPDATE NashvilleHousing t1\n",
    "SET PropertyAddress = COALESCE(t1.PropertyAddress, t2.PropertyAddress)\n",
    "  FROM NashvilleHousing t1\n",
    "  JOIN NashvilleHousing t2\n",
    "    ON t1.ParcelID = t2.ParcelID \n",
    "       AND t1.UniqueID != t2.UniqueID\n",
    "  WHERE t1.PropertyAddress IS NULL;"
   ]
  },
  {
   "cell_type": "markdown",
   "metadata": {},
   "source": [
    "- If the above query doesn't work, one of the below queries should work depending on the DBMS."
   ]
  },
  {
   "cell_type": "code",
   "execution_count": null,
   "metadata": {
    "vscode": {
     "languageId": "sql"
    }
   },
   "outputs": [],
   "source": [
    "UPDATE NashvilleHousing t1\n",
    "SET PropertyAddress = COALESCE(t1.PropertyAddress, t2.PropertyAddress)\n",
    "  FROM NashvilleHousing t2\n",
    "  WHERE t1.ParcelID = t2.ParcelID\n",
    "        AND t1.UniqueID != t2.UniqueID\n",
    "        AND t1.PropertyAddress IS NULL;\n",
    "\n",
    "-- Or this one\n",
    "\n",
    "UPDATE NashvilleHousing t1\n",
    "SET PropertyAddress = \n",
    "(\n",
    "  SELECT COALESCE(t1.PropertyAddress, t2.PropertyAddress)\n",
    "  FROM fantasy.NashvilleHousing t1\n",
    "  JOIN fantasy.NashvilleHousing t2\n",
    "    ON t1.ParcelID = t2.ParcelID\n",
    "       AND t1.UniqueID != t2.UniqueID\n",
    "  LIMIT 1\n",
    ")\n",
    "WHERE t1.PropertyAddress IS NULL;\n",
    "\n",
    "-- Or this one\n",
    "\n",
    "UPDATE NashvilleHousing t1\n",
    "SET PropertyAddress = \n",
    "(\n",
    "  SELECT COALESCE(t1.PropertyAddress, t2.PropertyAddress)\n",
    "  FROM fantasy.NashvilleHousing t2\n",
    "  WHERE t1.ParcelID = t2.ParcelID\n",
    "        AND t1.UniqueID != t2.UniqueID\n",
    "  LIMIT 1\n",
    ")\n",
    "WHERE t1.PropertyAddress IS NULL;\n",
    "\n",
    "-- Or this\n",
    "\n",
    "UPDATE NashvilleHousing t1\n",
    "SET t1.PropertyAddress = t2.PropertyAddress\n",
    "FROM (\n",
    "  SELECT \n",
    "    ParcelID,\n",
    "    PropertyAddress,\n",
    "    ROW_NUMBER() OVER (PARTITION BY ParcelID ORDER BY ParcelID) AS rn\n",
    "  FROM NashvilleHousing\n",
    "  WHERE PropertyAddress IS NOT NULL\n",
    ") t2\n",
    "WHERE t1.ParcelID = t2.ParcelID\n",
    "      AND t2.rn = 1\n",
    "      AND t1.PropertyAddress IS NULL;"
   ]
  },
  {
   "cell_type": "markdown",
   "metadata": {},
   "source": [
    "### Extracting Address, City from PropertyAddress and Address, City, State from OwnerAddress"
   ]
  },
  {
   "cell_type": "code",
   "execution_count": null,
   "metadata": {
    "vscode": {
     "languageId": "sql"
    }
   },
   "outputs": [],
   "source": [
    "SELECT PropertyAddress\n",
    "FROM NashvilleHousing\n",
    "LIMIT 50;"
   ]
  },
  {
   "cell_type": "markdown",
   "metadata": {},
   "source": [
    "- In most rows, the address, city, and state in the PropertyAddress and OwnerAddress columns are separated by a comma (','), but not in all of them or some rows may not include the city or state. Some string functions won't raise an error in these situations and will return an empty string (''), but others might raise an error. If an error is raised, use TRY or SAFE functions."
   ]
  },
  {
   "cell_type": "code",
   "execution_count": null,
   "metadata": {
    "vscode": {
     "languageId": "sql"
    }
   },
   "outputs": [],
   "source": [
    "SELECT \n",
    "  -- Split PropertyAddress\n",
    "  SPLIT_PART(PropertyAddress, ',', 1) AS Property_Address,\n",
    "  SPLIT_PART(PropertyAddress, ',', 2) AS Property_City,\n",
    "  \n",
    "  -- Split OwnerAddress\n",
    "  SPLIT_PART(OwnerAddress, ',', 1) AS Owner_Address,\n",
    "  SPLIT_PART(OwnerAddress, ',', 2) AS Owner_City,\n",
    "  SPLIT_PART(OwnerAddress, ',', 3) AS Owner_State\n",
    "FROM NashvilleHousing;"
   ]
  },
  {
   "cell_type": "markdown",
   "metadata": {},
   "source": [
    "- There are lots of functions that can be used for this task depends on the DBMS."
   ]
  },
  {
   "cell_type": "code",
   "execution_count": null,
   "metadata": {
    "vscode": {
     "languageId": "sql"
    }
   },
   "outputs": [],
   "source": [
    "-- (STRING_TO_ARRAY(PropertyAddress, ','))[1] AS Property_Address\n",
    "\n",
    "-- SUBSTRING(PropertyAddress, 1, CHARINDEX(',', PropertyAddress) -1 ) AS Property_Address\n",
    "\n",
    "-- PARSENAME(REPLACE(PropertyAddress, ',', '.') , 2) AS Property_Address\n",
    "\n",
    "-- SPLIT(PropertyAddress, ',')[SAFE_OFFSET(0)] AS Property_Address"
   ]
  },
  {
   "cell_type": "markdown",
   "metadata": {},
   "source": [
    "- We can add the new columns to the table with the below queries."
   ]
  },
  {
   "cell_type": "code",
   "execution_count": null,
   "metadata": {
    "vscode": {
     "languageId": "sql"
    }
   },
   "outputs": [],
   "source": [
    "ALTER TABLE NashvilleHousing\n",
    "  ADD COLUMN Property_Address TEXT, -- NVARCHAR(255), STRING,... depends on the DBMS\n",
    "  ADD COLUMN Property_City TEXT,\n",
    "  ADD COLUMN Owner_Address TEXT,\n",
    "  ADD COLUMN Owner_City TEXT,\n",
    "  ADD COLUMN Owner_State TEXT;"
   ]
  },
  {
   "cell_type": "code",
   "execution_count": null,
   "metadata": {
    "vscode": {
     "languageId": "sql"
    }
   },
   "outputs": [],
   "source": [
    "UPDATE NashvilleHousing\n",
    "SET \n",
    "  Property_Address = SPLIT_PART(PropertyAddress, ',', 1), -- The function can change, depends on the DBMS\n",
    "  Property_City = SPLIT_PART(PropertyAddress, ',', 2),\n",
    "  Owner_Address = SPLIT_PART(OwnerAddress, ',', 1),\n",
    "  Owner_City = SPLIT_PART(OwnerAddress, ',', 2),\n",
    "  Owner_State = SPLIT_PART(OwnerAddress, ',', 3);"
   ]
  },
  {
   "cell_type": "markdown",
   "metadata": {},
   "source": [
    "### Change Y to Yes and N to No in SoldAsVacant"
   ]
  },
  {
   "cell_type": "code",
   "execution_count": null,
   "metadata": {
    "vscode": {
     "languageId": "sql"
    }
   },
   "outputs": [],
   "source": [
    "SELECT DISTINCT(SoldAsVacant), COUNT(SoldAsVacant) AS countNY\n",
    "FROM NashvilleHousing\n",
    "GROUP BY SoldAsVacant\n",
    "ORDER BY countNY;"
   ]
  },
  {
   "cell_type": "markdown",
   "metadata": {},
   "source": [
    "- Because the number of 'N' and 'Y's are significantly lower, we change them to 'No' and 'Yes'."
   ]
  },
  {
   "cell_type": "code",
   "execution_count": null,
   "metadata": {
    "vscode": {
     "languageId": "sql"
    }
   },
   "outputs": [],
   "source": [
    "SELECT SoldAsVacant, \n",
    "  CASE \n",
    "    WHEN SoldAsVacant = 'N' THEN 'No'\n",
    "\t  WHEN SoldAsVacant = 'Y' THEN 'Yes'\n",
    "\t  ELSE SoldAsVacant\n",
    "  END\n",
    "FROM NashvilleHousing;"
   ]
  },
  {
   "cell_type": "markdown",
   "metadata": {},
   "source": [
    "- We can change the table with this query"
   ]
  },
  {
   "cell_type": "code",
   "execution_count": null,
   "metadata": {
    "vscode": {
     "languageId": "sql"
    }
   },
   "outputs": [],
   "source": [
    "UPDATE NashvilleHousing\n",
    "SET SoldAsVacant = \n",
    "  CASE \n",
    "    WHEN SoldAsVacant = 'N' THEN 'No'\n",
    "    WHEN SoldAsVacant = 'Y' THEN 'Yes'\n",
    "    ELSE SoldAsVacant\n",
    "  END;\n",
    "-- WHERE SoldAsVacant IS NOT NULL; -- Some DBMS like BigQuery need a WHERE cluase in the UPDATE command "
   ]
  },
  {
   "cell_type": "markdown",
   "metadata": {},
   "source": [
    "### Find Duplicate Rows"
   ]
  },
  {
   "cell_type": "code",
   "execution_count": null,
   "metadata": {
    "vscode": {
     "languageId": "sql"
    }
   },
   "outputs": [],
   "source": [
    "SELECT COUNT(*)\n",
    "FROM NashvilleHousing;"
   ]
  },
  {
   "cell_type": "markdown",
   "metadata": {},
   "source": [
    "- We can see that there are duplicates in these columns. These columns are selected because there is a high chance to determine unique transactions based on them. Also, there is no NULL in these columns."
   ]
  },
  {
   "cell_type": "code",
   "execution_count": null,
   "metadata": {
    "vscode": {
     "languageId": "sql"
    }
   },
   "outputs": [],
   "source": [
    "SELECT COUNT(DISTINCT ParcelID)\n",
    "FROM NashvilleHousing;"
   ]
  },
  {
   "cell_type": "code",
   "execution_count": null,
   "metadata": {
    "vscode": {
     "languageId": "sql"
    }
   },
   "outputs": [],
   "source": [
    "SELECT COUNT(DISTINCT PropertyAddress)\n",
    "FROM NashvilleHousing;"
   ]
  },
  {
   "cell_type": "code",
   "execution_count": null,
   "metadata": {
    "vscode": {
     "languageId": "sql"
    }
   },
   "outputs": [],
   "source": [
    "SELECT COUNT(DISTINCT SaleDate, SalePrice)\n",
    "FROM NashvilleHousing;"
   ]
  },
  {
   "cell_type": "markdown",
   "metadata": {},
   "source": [
    "- If the above query doesn't work, the below query should work"
   ]
  },
  {
   "cell_type": "code",
   "execution_count": null,
   "metadata": {
    "vscode": {
     "languageId": "sql"
    }
   },
   "outputs": [],
   "source": [
    "SELECT COUNT(*)\n",
    "FROM (\n",
    "    SELECT DISTINCT SaleDate, SalePrice\n",
    "    FROM NashvilleHousing\n",
    ");"
   ]
  },
  {
   "cell_type": "code",
   "execution_count": null,
   "metadata": {
    "vscode": {
     "languageId": "sql"
    }
   },
   "outputs": [],
   "source": [
    "SELECT COUNT(DISTINCT LegalReference)\n",
    "FROM fantasy.NashvilleHousing;"
   ]
  },
  {
   "cell_type": "markdown",
   "metadata": {},
   "source": [
    "- We can find the duplicate rows with this query"
   ]
  },
  {
   "cell_type": "code",
   "execution_count": null,
   "metadata": {
    "vscode": {
     "languageId": "sql"
    }
   },
   "outputs": [],
   "source": [
    "WITH DupRows AS (\n",
    "  Select \n",
    "    *,\n",
    "    ROW_NUMBER() OVER(\n",
    "      PARTITION BY \n",
    "        ParcelID,\n",
    "\t\t\t  PropertyAddress,\n",
    "\t\t\t  SalePrice,\n",
    "\t\t\t  SaleDate,\n",
    "\t\t\t  LegalReference\n",
    "\t\t\tORDER BY UniqueID\n",
    "\t\t) AS rn\n",
    "FROM NashvilleHousing\n",
    ")\n",
    "\n",
    "SELECT COUNT(*) -- SELECT * shows the duplicate rows\n",
    "FROM DupRows\n",
    "WHERE rn > 1;"
   ]
  },
  {
   "cell_type": "markdown",
   "metadata": {},
   "source": [
    "- We can find the duplicateb rows using this query too. But this is not useful for more actions."
   ]
  },
  {
   "cell_type": "code",
   "execution_count": null,
   "metadata": {
    "vscode": {
     "languageId": "sql"
    }
   },
   "outputs": [],
   "source": [
    "SELECT \n",
    "  ParcelID, \n",
    "  PropertyAddress, \n",
    "  SalePrice, \n",
    "  SaleDate, \n",
    "  LegalReference,\n",
    "  COUNT(*) as DuplicateCount\n",
    "FROM NashvilleHousing\n",
    "GROUP BY \n",
    "  ParcelID, \n",
    "  PropertyAddress, \n",
    "  SalePrice, \n",
    "  SaleDate, \n",
    "  LegalReference\n",
    "HAVING  COUNT(*) > 1\n",
    "ORDER BY DuplicateCount DESC;"
   ]
  },
  {
   "cell_type": "markdown",
   "metadata": {},
   "source": [
    "- We can delete the duplicate rows from the table with below query but it's recommended not to do this."
   ]
  },
  {
   "cell_type": "code",
   "execution_count": null,
   "metadata": {
    "vscode": {
     "languageId": "sql"
    }
   },
   "outputs": [],
   "source": [
    "/*\n",
    "WITH DupRows AS (\n",
    "  Select \n",
    "    *,\n",
    "    ROW_NUMBER() OVER(\n",
    "      PARTITION BY \n",
    "        ParcelID,\n",
    "\t\t\t  PropertyAddress,\n",
    "\t\t\t  SalePrice,\n",
    "\t\t\t  SaleDate,\n",
    "\t\t\t  LegalReference\n",
    "\t\t\tORDER BY UniqueID\n",
    "\t\t) AS rn\n",
    "FROM NashvilleHousing\n",
    ")\n",
    "\n",
    "DELETE FROM NashvilleHousing\n",
    "  WHERE UniqueID IN (\n",
    "    SELECT UniqueID\n",
    "    FROM DupRows\n",
    "    WHERE rn > 1\n",
    "  );\n",
    "  */"
   ]
  },
  {
   "cell_type": "markdown",
   "metadata": {},
   "source": [
    "- If we don't want the duplicate rows, temporary table or view or materialized view is the usual solution. We can create a temporary table with below query"
   ]
  },
  {
   "cell_type": "code",
   "execution_count": null,
   "metadata": {
    "vscode": {
     "languageId": "sql"
    }
   },
   "outputs": [],
   "source": [
    "CREATE TEMPORARY TABLE temp_NashvilleHousing AS\n",
    "\n",
    "  WITH DupRows AS (\n",
    "    Select \n",
    "      *,\n",
    "      ROW_NUMBER() OVER(\n",
    "        PARTITION BY \n",
    "          ParcelID,\n",
    "\t\t\t    PropertyAddress,\n",
    "\t\t\t    SalePrice,\n",
    "\t\t\t    SaleDate,\n",
    "\t\t\t    LegalReference\n",
    "\t\t\t  ORDER BY UniqueID\n",
    "\t\t  ) AS rn\n",
    "    FROM NashvilleHousing\n",
    "  )\n",
    "\n",
    "  SELECT *\n",
    "  FROM DupRows\n",
    "  WHERE rn = 1;"
   ]
  }
 ],
 "metadata": {
  "language_info": {
   "name": "python"
  }
 },
 "nbformat": 4,
 "nbformat_minor": 2
}
